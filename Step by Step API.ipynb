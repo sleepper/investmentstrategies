{
 "cells": [
  {
   "cell_type": "code",
   "execution_count": 2,
   "metadata": {},
   "outputs": [],
   "source": [
    "import requests\n",
    "import json\n",
    "import pandas as pd\n",
    "\n",
    "api_key = '1ZxcVL8gBZIFARcf1f9lOR4SZsK1lTSF'\n",
    "\n",
    "ticker = 'ASME.AS'\n",
    "data_type = 'historical-price-full'\n",
    "\n",
    "url = f\"https://financialmodelingprep.com/api/v3/{data_type}/{ticker}?apikey={api_key}\"\n",
    "\n",
    "r = requests.get(url)\n",
    "data = r.json()"
   ]
  },
  {
   "cell_type": "code",
   "execution_count": 13,
   "metadata": {},
   "outputs": [
    {
     "data": {
      "text/plain": [
       "'https://financialmodelingprep.com/api/v3/historical-price-full/ASME.AS?apikey=1ZxcVL8gBZIFARcf1f9lOR4SZsK1lTSF'"
      ]
     },
     "execution_count": 13,
     "metadata": {},
     "output_type": "execute_result"
    }
   ],
   "source": [
    "list(data.keys()) != ['symbol','historical']\n",
    "url"
   ]
  },
  {
   "cell_type": "code",
   "execution_count": 8,
   "metadata": {},
   "outputs": [
    {
     "data": {
      "text/plain": [
       "dict_keys(['Error Message'])"
      ]
     },
     "execution_count": 8,
     "metadata": {},
     "output_type": "execute_result"
    }
   ],
   "source": [
    "data.keys()"
   ]
  },
  {
   "cell_type": "code",
   "execution_count": 9,
   "metadata": {},
   "outputs": [],
   "source": [
    "def request_is_good(json_r):\n",
    "    b_return = False\n",
    "    req_keys = list(json_r.keys())\n",
    "    if req_keys == ['symbol','historical']:\n",
    "        b_return = True\n",
    "\n",
    "    return b_return"
   ]
  },
  {
   "cell_type": "code",
   "execution_count": 10,
   "metadata": {},
   "outputs": [
    {
     "data": {
      "text/plain": [
       "False"
      ]
     },
     "execution_count": 10,
     "metadata": {},
     "output_type": "execute_result"
    }
   ],
   "source": [
    "request_is_good(data)"
   ]
  },
  {
   "cell_type": "code",
   "execution_count": 2,
   "metadata": {},
   "outputs": [
    {
     "data": {
      "text/plain": [
       "['ADBE.csv',\n",
       " 'ADSK.csv',\n",
       " 'AMCR.csv',\n",
       " 'AMD.csv',\n",
       " 'AME.csv',\n",
       " 'ASML.AS.csv',\n",
       " 'BALL.csv',\n",
       " 'DUOL.csv',\n",
       " 'ENX.PA.csv',\n",
       " 'INTC.csv',\n",
       " 'IP.csv',\n",
       " 'KO.csv',\n",
       " 'LHA.DE.csv',\n",
       " 'LOGI.csv',\n",
       " 'MA.csv',\n",
       " 'MDLZ.csv',\n",
       " 'PFE.DE.csv',\n",
       " 'PHIA.AS.csv',\n",
       " 'PLTR.csv',\n",
       " 'PYPL.csv',\n",
       " 'RI.PA.csv',\n",
       " 'SEE.csv',\n",
       " 'TEAM.csv',\n",
       " 'THULE.ST.csv',\n",
       " 'UNA.AS.csv',\n",
       " 'WDI.csv']"
      ]
     },
     "execution_count": 2,
     "metadata": {},
     "output_type": "execute_result"
    }
   ],
   "source": [
    "import os\n",
    "pp='c:\\\\Users\\\\top kek\\\\Desktop\\\\Python\\\\2_External APIs\\\\market data\\\\'\n",
    "os.listdir(pp)"
   ]
  },
  {
   "cell_type": "code",
   "execution_count": 8,
   "metadata": {},
   "outputs": [
    {
     "name": "stdout",
     "output_type": "stream",
     "text": [
      "              ADBE\n",
      "date              \n",
      "2024-05-17  483.43\n",
      "2024-05-16  482.88\n",
      "2024-05-15  485.35\n",
      "2024-05-14  475.95\n",
      "2024-05-13  483.11\n",
      "2024-05-10  482.29\n",
      "2024-05-09  482.65\n",
      "2024-05-08  488.10\n",
      "2024-05-07  492.27\n",
      "2024-05-06  493.59\n",
      "2024-05-03  486.18\n",
      "2024-05-02  476.57\n",
      "2024-05-01  469.39\n",
      "2024-04-30  462.83\n",
      "2024-04-29  473.07\n",
      "2024-04-26  477.56\n",
      "2024-04-25  473.44\n",
      "2024-04-24  477.12\n",
      "2024-04-23  472.90\n",
      "2024-04-22  466.89\n",
      "2024-04-19  465.02\n",
      "2024-04-18  473.18\n",
      "2024-04-17  474.45\n",
      "2024-04-16  476.22\n",
      "2024-04-15  470.10\n",
      "2024-04-12  474.09\n",
      "2024-04-11  484.28\n",
      "2024-04-10  487.22\n",
      "2024-04-09  492.55\n",
      "2024-04-08  484.28\n",
      "...            ...\n",
      "2024-02-13  601.89\n",
      "2024-02-12  611.84\n",
      "2024-02-09  627.21\n",
      "2024-02-08  615.86\n",
      "2024-02-07  615.85\n",
      "2024-02-06  607.14\n",
      "2024-02-05  630.50\n",
      "2024-02-02  634.76\n",
      "2024-02-01  627.91\n",
      "2024-01-31  617.78\n",
      "2024-01-30  627.96\n",
      "2024-01-29  630.23\n",
      "2024-01-26  613.93\n",
      "2024-01-25  622.58\n",
      "2024-01-24  606.48\n",
      "2024-01-23  597.18\n",
      "2024-01-22  603.59\n",
      "2024-01-19  611.55\n",
      "2024-01-18  593.70\n",
      "2024-01-17  596.10\n",
      "2024-01-16  597.68\n",
      "2024-01-12  596.54\n",
      "2024-01-11  597.49\n",
      "2024-01-10  591.03\n",
      "2024-01-09  586.20\n",
      "2024-01-08  580.55\n",
      "2024-01-05  564.60\n",
      "2024-01-04  567.05\n",
      "2024-01-03  571.79\n",
      "2024-01-02  580.07\n",
      "\n",
      "[96 rows x 1 columns]\n"
     ]
    }
   ],
   "source": [
    "path = 'c:\\\\Users\\\\top kek\\\\Desktop\\\\Python\\\\2_External APIs\\\\market data\\\\'\n",
    "ticker = \"ADBE\"\n",
    "df_temp = pd.read_csv(path + ticker + '.csv')\n",
    "df_temp = df_temp.set_index('date')\n",
    "df_temp = df_temp[['adjClose']]\n",
    "df_temp.rename(columns={'adjClose': ticker}, inplace=True)\n",
    "market_data = df_temp\n",
    "\n",
    "print(market_data)"
   ]
  },
  {
   "cell_type": "code",
   "execution_count": 11,
   "metadata": {},
   "outputs": [
    {
     "data": {
      "text/plain": [
       "<matplotlib.axes._subplots.AxesSubplot at 0x2a46eb30898>"
      ]
     },
     "execution_count": 11,
     "metadata": {},
     "output_type": "execute_result"
    },
    {
     "data": {
      "image/png": "[encoded data removed]",
      "text/plain": [
       "<Figure size 432x288 with 1 Axes>"
      ]
     },
     "metadata": {},
     "output_type": "display_data"
    }
   ],
   "source": [
    "import scipy.stats as stats\n",
    "import seaborn as sns\n",
    "rvs = stats.norm(loc=0, scale=1)\n",
    "normal_sample = rvs.rvs(size=1000)\n",
    "sns.set()\n",
    "sns.distplot(normal_sample)"
   ]
  },
  {
   "cell_type": "code",
   "execution_count": 28,
   "metadata": {},
   "outputs": [
    {
     "ename": "AttributeError",
     "evalue": "'DataFrame' object has no attribute 'to_numpy'",
     "output_type": "error",
     "traceback": [
      "\u001b[1;31m---------------------------------------------------------------------------\u001b[0m",
      "\u001b[1;31mAttributeError\u001b[0m                            Traceback (most recent call last)",
      "\u001b[1;32m<ipython-input-28-1345f93b14cb>\u001b[0m in \u001b[0;36m<module>\u001b[1;34m\u001b[0m\n\u001b[0;32m      4\u001b[0m \u001b[0mdf_logreturns\u001b[0m \u001b[1;33m=\u001b[0m \u001b[0mmarket_data\u001b[0m\u001b[1;33m.\u001b[0m\u001b[0mapply\u001b[0m\u001b[1;33m(\u001b[0m\u001b[0mnp\u001b[0m\u001b[1;33m.\u001b[0m\u001b[0mlog\u001b[0m\u001b[1;33m)\u001b[0m\u001b[1;33m-\u001b[0m\u001b[0mmarket_data\u001b[0m\u001b[1;33m.\u001b[0m\u001b[0mshift\u001b[0m\u001b[1;33m(\u001b[0m\u001b[1;36m1\u001b[0m\u001b[1;33m)\u001b[0m\u001b[1;33m.\u001b[0m\u001b[0mapply\u001b[0m\u001b[1;33m(\u001b[0m\u001b[0mnp\u001b[0m\u001b[1;33m.\u001b[0m\u001b[0mlog\u001b[0m\u001b[1;33m)\u001b[0m\u001b[1;33m\u001b[0m\u001b[1;33m\u001b[0m\u001b[0m\n\u001b[0;32m      5\u001b[0m \u001b[0mdf_logreturns\u001b[0m\u001b[1;33m.\u001b[0m\u001b[0mdropna\u001b[0m\u001b[1;33m(\u001b[0m\u001b[0minplace\u001b[0m\u001b[1;33m=\u001b[0m\u001b[1;32mTrue\u001b[0m\u001b[1;33m)\u001b[0m\u001b[1;33m\u001b[0m\u001b[1;33m\u001b[0m\u001b[0m\n\u001b[1;32m----> 6\u001b[1;33m \u001b[0mreal_sample\u001b[0m \u001b[1;33m=\u001b[0m \u001b[0mdf_logreturns\u001b[0m\u001b[1;33m.\u001b[0m\u001b[0mto_numpy\u001b[0m\u001b[1;33m(\u001b[0m\u001b[1;33m)\u001b[0m\u001b[1;33m\u001b[0m\u001b[1;33m\u001b[0m\u001b[0m\n\u001b[0m\u001b[0;32m      7\u001b[0m \u001b[1;33m\u001b[0m\u001b[0m\n\u001b[0;32m      8\u001b[0m \u001b[0mstats\u001b[0m\u001b[1;33m.\u001b[0m\u001b[0mprobplot\u001b[0m\u001b[1;33m(\u001b[0m\u001b[0mreal_sample\u001b[0m\u001b[1;33m,\u001b[0m \u001b[0mdist\u001b[0m\u001b[1;33m=\u001b[0m\u001b[1;34m\"norm\"\u001b[0m\u001b[1;33m,\u001b[0m \u001b[0mplot\u001b[0m\u001b[1;33m=\u001b[0m\u001b[0mplt\u001b[0m\u001b[1;33m)\u001b[0m\u001b[1;33m\u001b[0m\u001b[1;33m\u001b[0m\u001b[0m\n",
      "\u001b[1;32mc:\\Users\\top kek\\Anaconda3\\lib\\site-packages\\pandas\\core\\generic.py\u001b[0m in \u001b[0;36m__getattr__\u001b[1;34m(self, name)\u001b[0m\n\u001b[0;32m   4374\u001b[0m             \u001b[1;32mif\u001b[0m \u001b[0mself\u001b[0m\u001b[1;33m.\u001b[0m\u001b[0m_info_axis\u001b[0m\u001b[1;33m.\u001b[0m\u001b[0m_can_hold_identifiers_and_holds_name\u001b[0m\u001b[1;33m(\u001b[0m\u001b[0mname\u001b[0m\u001b[1;33m)\u001b[0m\u001b[1;33m:\u001b[0m\u001b[1;33m\u001b[0m\u001b[1;33m\u001b[0m\u001b[0m\n\u001b[0;32m   4375\u001b[0m                 \u001b[1;32mreturn\u001b[0m \u001b[0mself\u001b[0m\u001b[1;33m[\u001b[0m\u001b[0mname\u001b[0m\u001b[1;33m]\u001b[0m\u001b[1;33m\u001b[0m\u001b[1;33m\u001b[0m\u001b[0m\n\u001b[1;32m-> 4376\u001b[1;33m             \u001b[1;32mreturn\u001b[0m \u001b[0mobject\u001b[0m\u001b[1;33m.\u001b[0m\u001b[0m__getattribute__\u001b[0m\u001b[1;33m(\u001b[0m\u001b[0mself\u001b[0m\u001b[1;33m,\u001b[0m \u001b[0mname\u001b[0m\u001b[1;33m)\u001b[0m\u001b[1;33m\u001b[0m\u001b[1;33m\u001b[0m\u001b[0m\n\u001b[0m\u001b[0;32m   4377\u001b[0m \u001b[1;33m\u001b[0m\u001b[0m\n\u001b[0;32m   4378\u001b[0m     \u001b[1;32mdef\u001b[0m \u001b[0m__setattr__\u001b[0m\u001b[1;33m(\u001b[0m\u001b[0mself\u001b[0m\u001b[1;33m,\u001b[0m \u001b[0mname\u001b[0m\u001b[1;33m,\u001b[0m \u001b[0mvalue\u001b[0m\u001b[1;33m)\u001b[0m\u001b[1;33m:\u001b[0m\u001b[1;33m\u001b[0m\u001b[1;33m\u001b[0m\u001b[0m\n",
      "\u001b[1;31mAttributeError\u001b[0m: 'DataFrame' object has no attribute 'to_numpy'"
     ]
    }
   ],
   "source": [
    "import numpy as np\n",
    "import matplotlib.pyplot as plt\n",
    "\n",
    "df_logreturns = market_data.apply(np.log)-market_data.shift(1).apply(np.log)\n",
    "df_logreturns.dropna(inplace=True)\n",
    "real_sample = df_logreturns.to_numpy()\n",
    "\n",
    "stats.probplot(real_sample, dist=\"norm\", plot=plt)"
   ]
  }
 ],
 "metadata": {
  "kernelspec": {
   "display_name": "Python 3",
   "language": "python",
   "name": "python3"
  },
  "language_info": {
   "codemirror_mode": {
    "name": "ipython",
    "version": 3
   },
   "file_extension": ".py",
   "mimetype": "text/x-python",
   "name": "python",
   "nbconvert_exporter": "python",
   "pygments_lexer": "ipython3",
   "version": "3.7.1"
  }
 },
 "nbformat": 4,
 "nbformat_minor": 2
}
