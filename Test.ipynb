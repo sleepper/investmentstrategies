{
 "cells": [
  {
   "cell_type": "code",
   "execution_count": 1,
   "metadata": {},
   "outputs": [
    {
     "name": "stderr",
     "output_type": "stream",
     "text": [
      "C:\\Users\\top kek\\AppData\\Roaming\\Python\\Python37\\site-packages\\pandas\\compat\\_optional.py:138: UserWarning: Pandas requires version '2.7.0' or newer of 'numexpr' (version '2.6.8' currently installed).\n",
      "  warnings.warn(msg, UserWarning)\n"
     ]
    },
    {
     "name": "stdout",
     "output_type": "stream",
     "text": [
      "https://financialmodelingprep.com/api/v3/historical-price-full/ADBE?from=2024-01-01&to=2024-07-01&apikey=1ZxcVL8gBZIFARcf1f9lOR4SZsK1lTSF\n"
     ]
    }
   ],
   "source": [
    "import pandas as pd\n",
    "import DownloadFMP as d\n",
    "from DownloadFMP import FMP_download\n",
    "from ReturnProfile import asset_performance\n",
    "from PortfolioProfile import portfolio_performance\n",
    "\n",
    "data = FMP_download('ADBE')\n"
   ]
  },
  {
   "cell_type": "code",
   "execution_count": 5,
   "metadata": {},
   "outputs": [],
   "source": [
    "import requests\n",
    "def request_financials(ticker, fs_type, frequency='annual'):\n",
    "    \n",
    "    api_key = '1ZxcVL8gBZIFARcf1f9lOR4SZsK1lTSF'\n",
    "    \n",
    "    if fs_type == 'IS':\n",
    "        data_type = 'income-statement'\n",
    "    \n",
    "    if fs_type == 'BS':\n",
    "        data_type = 'balance-sheet-statement'\n",
    "    \n",
    "    if fs_type == 'CF':\n",
    "        data_type = 'cash-flow-statement'\n",
    "\n",
    "    url = f\"https://financialmodelingprep.com/api/v3/{data_type}/{ticker}?period={frequency}&apikey={api_key}\"\n",
    "    print(url)\n",
    "    \n",
    "    r = requests.get(url)\n",
    "    #self.logger.info(f'Sending the following request {url}')\n",
    "    return r.json()\n"
   ]
  },
  {
   "cell_type": "code",
   "execution_count": 12,
   "metadata": {},
   "outputs": [
    {
     "name": "stdout",
     "output_type": "stream",
     "text": [
      "https://financialmodelingprep.com/api/v3/cash-flow-statement/ADBE?period=annual&apikey=1ZxcVL8gBZIFARcf1f9lOR4SZsK1lTSF\n"
     ]
    }
   ],
   "source": [
    "df_temp = pd.json_normalize(request_financials('ADBE',fs_type='CF'))\n",
    "df_temp.to_excel('test.xlsx')"
   ]
  },
  {
   "cell_type": "code",
   "execution_count": 4,
   "metadata": {},
   "outputs": [
    {
     "name": "stdout",
     "output_type": "stream",
     "text": [
      "ChatCompletionMessage(content='Silicon mind soars,\\nInfinite data it stores,\\nAI explores, implores.', role='assistant', function_call=None, tool_calls=None, refusal=None)\n"
     ]
    }
   ],
   "source": [
    "from openai import OpenAI\n",
    "client = OpenAI()\n",
    "\n",
    "completion = client.chat.completions.create(\n",
    "    model=\"gpt-4o-mini\",\n",
    "    messages=[\n",
    "        {\"role\": \"user\", \"content\": \"write a haiku about ai\"}\n",
    "    ]\n",
    ")\n",
    "\n",
    "print(completion.choices[0].message)\n"
   ]
  }
 ],
 "metadata": {
  "kernelspec": {
   "display_name": "base",
   "language": "python",
   "name": "python3"
  },
  "language_info": {
   "codemirror_mode": {
    "name": "ipython",
    "version": 3
   },
   "file_extension": ".py",
   "mimetype": "text/x-python",
   "name": "python",
   "nbconvert_exporter": "python",
   "pygments_lexer": "ipython3",
   "version": "3.7.1"
  }
 },
 "nbformat": 4,
 "nbformat_minor": 2
}
