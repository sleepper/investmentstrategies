{
 "cells": [
  {
   "cell_type": "code",
   "execution_count": 1,
   "metadata": {},
   "outputs": [
    {
     "name": "stderr",
     "output_type": "stream",
     "text": [
      "C:\\Users\\top kek\\AppData\\Roaming\\Python\\Python37\\site-packages\\pandas\\compat\\_optional.py:138: UserWarning: Pandas requires version '2.7.0' or newer of 'numexpr' (version '2.6.8' currently installed).\n",
      "  warnings.warn(msg, UserWarning)\n"
     ]
    },
    {
     "name": "stdout",
     "output_type": "stream",
     "text": [
      "https://financialmodelingprep.com/api/v3/historical-price-full/ADBE?from=2024-01-01&to=2024-07-01&apikey=1ZxcVL8gBZIFARcf1f9lOR4SZsK1lTSF\n"
     ]
    }
   ],
   "source": [
    "import pandas as pd\n",
    "import DownloadFMP as d\n",
    "from DownloadFMP import FMP_download\n",
    "from ReturnProfile import asset_performance\n",
    "from PortfolioProfile import portfolio_performance\n",
    "\n",
    "data = FMP_download('ADBE')\n"
   ]
  },
  {
   "cell_type": "code",
   "execution_count": 5,
   "metadata": {},
   "outputs": [],
   "source": [
    "import requests\n",
    "def request_financials(ticker, fs_type, frequency='annual'):\n",
    "    \n",
    "    api_key = '1ZxcVL8gBZIFARcf1f9lOR4SZsK1lTSF'\n",
    "    \n",
    "    if fs_type == 'IS':\n",
    "        data_type = 'income-statement'\n",
    "    \n",
    "    if fs_type == 'BS':\n",
    "        data_type = 'balance-sheet-statement'\n",
    "    \n",
    "    if fs_type == 'CF':\n",
    "        data_type = 'cash-flow-statement'\n",
    "\n",
    "    url = f\"https://financialmodelingprep.com/api/v3/{data_type}/{ticker}?period={frequency}&apikey={api_key}\"\n",
    "    print(url)\n",
    "    \n",
    "    r = requests.get(url)\n",
    "    #self.logger.info(f'Sending the following request {url}')\n",
    "    return r.json()\n"
   ]
  },
  {
   "cell_type": "code",
   "execution_count": 12,
   "metadata": {},
   "outputs": [
    {
     "name": "stdout",
     "output_type": "stream",
     "text": [
      "https://financialmodelingprep.com/api/v3/cash-flow-statement/ADBE?period=annual&apikey=1ZxcVL8gBZIFARcf1f9lOR4SZsK1lTSF\n"
     ]
    }
   ],
   "source": [
    "df_temp = pd.json_normalize(request_financials('ADBE',fs_type='CF'))\n",
    "df_temp.to_excel('test.xlsx')"
   ]
  },
  {
   "cell_type": "code",
   "execution_count": 5,
   "metadata": {},
   "outputs": [
    {
     "name": "stdout",
     "output_type": "stream",
     "text": [
      "ChatCompletionMessage(content='Silent circuits hum,  \\nWisdom born from coded dreams,  \\nEchoes of our thoughts.', role='assistant', function_call=None, tool_calls=None, refusal=None)\n"
     ]
    }
   ],
   "source": [
    "from openai import OpenAI\n",
    "client = OpenAI()\n",
    "\n",
    "completion = client.chat.completions.create(\n",
    "    model=\"gpt-4o-mini\",\n",
    "    messages=[\n",
    "        {\"role\": \"user\", \"content\": \"write a haiku about ai\"}\n",
    "    ]\n",
    ")\n",
    "\n",
    "print(completion.choices[0].message)\n"
   ]
  },
  {
   "cell_type": "code",
   "execution_count": 9,
   "metadata": {},
   "outputs": [],
   "source": [
    "from openai import OpenAI\n",
    "\n",
    "\n",
    "def business_description(str_company_name:str):\n",
    "\n",
    "    client = OpenAI()\n",
    "    # Define the model and send the request\n",
    "    response = client.chat.completions.create(\n",
    "    model=\"gpt-4o-mini\",  # Specify the model\n",
    "    messages=[\n",
    "            {\"role\": \"system\", \"content\": \"You are an investment banking associate, whose job is to give short, insightful and correct answers.\"},\n",
    "            {\"role\": \"user\", \"content\": f\"Write me a business description for the company {str_company_name}. The answer should include the a high level business description, examples of products and their business applications, geographical presense of the company, major shareholders.\"}\n",
    "        ],\n",
    "    temperature = 0.5,\n",
    "    max_tokens = 300\n",
    "    )\n",
    "\n",
    "    return response.choices[0].message\n",
    "\n",
    "output_msg = business_description('Adobe Inc')"
   ]
  },
  {
   "cell_type": "code",
   "execution_count": 13,
   "metadata": {},
   "outputs": [
    {
     "ename": "RuntimeError",
     "evalue": "asyncio.run() cannot be called from a running event loop",
     "output_type": "error",
     "traceback": [
      "\u001b[1;31m---------------------------------------------------------------------------\u001b[0m",
      "\u001b[1;31mRuntimeError\u001b[0m                              Traceback (most recent call last)",
      "\u001b[1;32m<ipython-input-13-f1211a4df507>\u001b[0m in \u001b[0;36m<module>\u001b[1;34m\u001b[0m\n\u001b[0;32m     18\u001b[0m \u001b[1;33m\u001b[0m\u001b[0m\n\u001b[0;32m     19\u001b[0m \u001b[1;32mif\u001b[0m \u001b[0m__name__\u001b[0m \u001b[1;33m==\u001b[0m \u001b[1;34m'__main__'\u001b[0m\u001b[1;33m:\u001b[0m\u001b[1;33m\u001b[0m\u001b[1;33m\u001b[0m\u001b[0m\n\u001b[1;32m---> 20\u001b[1;33m     \u001b[0masyncio\u001b[0m\u001b[1;33m.\u001b[0m\u001b[0mrun\u001b[0m\u001b[1;33m(\u001b[0m\u001b[0mmain\u001b[0m\u001b[1;33m(\u001b[0m\u001b[1;33m)\u001b[0m\u001b[1;33m)\u001b[0m\u001b[1;33m\u001b[0m\u001b[1;33m\u001b[0m\u001b[0m\n\u001b[0m",
      "\u001b[1;32mc:\\Users\\top kek\\Anaconda3\\lib\\asyncio\\runners.py\u001b[0m in \u001b[0;36mrun\u001b[1;34m(main, debug)\u001b[0m\n\u001b[0;32m     32\u001b[0m     \u001b[1;32mif\u001b[0m \u001b[0mevents\u001b[0m\u001b[1;33m.\u001b[0m\u001b[0m_get_running_loop\u001b[0m\u001b[1;33m(\u001b[0m\u001b[1;33m)\u001b[0m \u001b[1;32mis\u001b[0m \u001b[1;32mnot\u001b[0m \u001b[1;32mNone\u001b[0m\u001b[1;33m:\u001b[0m\u001b[1;33m\u001b[0m\u001b[1;33m\u001b[0m\u001b[0m\n\u001b[0;32m     33\u001b[0m         raise RuntimeError(\n\u001b[1;32m---> 34\u001b[1;33m             \"asyncio.run() cannot be called from a running event loop\")\n\u001b[0m\u001b[0;32m     35\u001b[0m \u001b[1;33m\u001b[0m\u001b[0m\n\u001b[0;32m     36\u001b[0m     \u001b[1;32mif\u001b[0m \u001b[1;32mnot\u001b[0m \u001b[0mcoroutines\u001b[0m\u001b[1;33m.\u001b[0m\u001b[0miscoroutine\u001b[0m\u001b[1;33m(\u001b[0m\u001b[0mmain\u001b[0m\u001b[1;33m)\u001b[0m\u001b[1;33m:\u001b[0m\u001b[1;33m\u001b[0m\u001b[1;33m\u001b[0m\u001b[0m\n",
      "\u001b[1;31mRuntimeError\u001b[0m: asyncio.run() cannot be called from a running event loop"
     ]
    }
   ],
   "source": [
    "\n",
    "import pandas as pd\n",
    "import asyncio\n",
    "import telegram\n",
    "\n",
    "data = {\n",
    "        'Name':['Alex','Alexander'],\n",
    "        'Age':[1,31]\n",
    "    }\n",
    "\n",
    "df = pd.DataFrame(data)\n",
    "\n",
    "#id=1470074102\n",
    "async def main():\n",
    "    bot = telegram.Bot('1470074102:AAEd4en4YhzADfW2mgMb7m4Xp0_HHKoD_qw')\n",
    "    async with bot:\n",
    "        await bot.send_message(text='qq', chat_id = '145125445')\n",
    "\n",
    "if __name__ == '__main__':\n",
    "    asyncio.run(main())"
   ]
  }
 ],
 "metadata": {
  "kernelspec": {
   "display_name": "base",
   "language": "python",
   "name": "python3"
  },
  "language_info": {
   "codemirror_mode": {
    "name": "ipython",
    "version": 3
   },
   "file_extension": ".py",
   "mimetype": "text/x-python",
   "name": "python",
   "nbconvert_exporter": "python",
   "pygments_lexer": "ipython3",
   "version": "3.7.1"
  }
 },
 "nbformat": 4,
 "nbformat_minor": 2
}
