{
 "cells": [
  {
   "cell_type": "code",
   "execution_count": 8,
   "metadata": {},
   "outputs": [],
   "source": [
    "import pandas as pd\n",
    "import matplotlib.pyplot as plt\n",
    "import numpy as np\n",
    "import scipy.stats as stats\n"
   ]
  },
  {
   "cell_type": "code",
   "execution_count": 2,
   "metadata": {},
   "outputs": [],
   "source": [
    "df_temp = pd.read_csv(\"ADBE.CSV\",index_col=\"date\")\n",
    "df_temp[\"adjClose\"].dropna(inplace=True)\n",
    "df_data = df_temp[\"adjClose\"]\n",
    "df_returns = np.log(df_data.shift(0))-np.log(df_data.shift(-1))\n"
   ]
  },
  {
   "cell_type": "code",
   "execution_count": 27,
   "metadata": {},
   "outputs": [
    {
     "data": {
      "text/plain": [
       "{'mean': -0.0019183395701478925,\n",
       " 'vola': 0.03711538295640723,\n",
       " 'skew': -2.9605691181798983,\n",
       " 'kurt': 17.17489579802424,\n",
       " 'std': 0.02290811170119826,\n",
       " 'period (days)': 96}"
      ]
     },
     "execution_count": 27,
     "metadata": {},
     "output_type": "execute_result"
    }
   ],
   "source": [
    "period_days = len(df_returns)\n",
    "vola = df_returns.std() * (252/period_days) ** 0.5\n",
    "d_quick_stats = {\"mean\" : df_returns.mean(),\"vola\" : vola, \"skew\" : df_returns.skew(), \"kurt\" : df_returns.kurt(), \"std\" : df_returns.std() ,\"period (days)\" : period_days}\n",
    "d_quick_stats"
   ]
  },
  {
   "cell_type": "code",
   "execution_count": null,
   "metadata": {},
   "outputs": [],
   "source": []
  }
 ],
 "metadata": {
  "kernelspec": {
   "display_name": "Python 3",
   "language": "python",
   "name": "python3"
  },
  "language_info": {
   "codemirror_mode": {
    "name": "ipython",
    "version": 3
   },
   "file_extension": ".py",
   "mimetype": "text/x-python",
   "name": "python",
   "nbconvert_exporter": "python",
   "pygments_lexer": "ipython3",
   "version": "3.12.4"
  }
 },
 "nbformat": 4,
 "nbformat_minor": 2
}
