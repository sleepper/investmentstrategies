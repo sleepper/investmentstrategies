{
 "cells": [
  {
   "cell_type": "code",
   "execution_count": 5,
   "metadata": {},
   "outputs": [
    {
     "name": "stdout",
     "output_type": "stream",
     "text": [
      "https://financialmodelingprep.com/api/v3/historical-price-full/NVDA?from=2021-01-01&to=2024-07-01&apikey=1ZxcVL8gBZIFARcf1f9lOR4SZsK1lTSF\n",
      "{'mean': log_return    0.004295\n",
      "dtype: float64, 'vola': log_return    0.027961\n",
      "dtype: float64, 'skew': log_return    0.503716\n",
      "dtype: float64, 'kurt': log_return    3.495966\n",
      "dtype: float64, 'std': log_return    0.028017\n",
      "dtype: float64, 'observation period (days)': 251}\n",
      "https://financialmodelingprep.com/api/v3/historical-price-full/LHA.DE?from=2021-01-01&to=2024-07-01&apikey=1ZxcVL8gBZIFARcf1f9lOR4SZsK1lTSF\n",
      "{'mean': log_return   -0.001602\n",
      "dtype: float64, 'vola': log_return    0.017632\n",
      "dtype: float64, 'skew': log_return    0.17405\n",
      "dtype: float64, 'kurt': log_return    2.46321\n",
      "dtype: float64, 'std': log_return    0.017667\n",
      "dtype: float64, 'observation period (days)': 251}\n"
     ]
    },
    {
     "data": {
      "text/plain": [
       "<Figure size 1368x864 with 0 Axes>"
      ]
     },
     "metadata": {},
     "output_type": "display_data"
    },
    {
     "data": {
      "text/plain": [
       "<Figure size 1368x864 with 0 Axes>"
      ]
     },
     "metadata": {},
     "output_type": "display_data"
    },
    {
     "data": {
      "text/plain": [
       "<Figure size 1368x864 with 0 Axes>"
      ]
     },
     "metadata": {},
     "output_type": "display_data"
    }
   ],
   "source": [
    "import pandas as pd\n",
    "import DownloadFMP\n",
    "from DownloadFMP import FMP_download\n",
    "from ReturnProfile import asset_performance\n",
    "from PortfolioProfile import portfolio_performance\n",
    "\n",
    "cls_asset1 = asset_performance(ticker='NVDA', b_from_FMP=True)\n",
    "cls_asset2 = asset_performance(ticker='LHA.DE', b_from_FMP=True)\n",
    "\n",
    "cls_portfolio = portfolio_performance()\n",
    "cls_portfolio.add_security(cls_asset1)\n",
    "cls_portfolio.add_security(cls_asset2)"
   ]
  },
  {
   "cell_type": "code",
   "execution_count": 6,
   "metadata": {},
   "outputs": [
    {
     "ename": "AttributeError",
     "evalue": "'portfolio_performance' object has no attribute 'lst_tickers'",
     "output_type": "error",
     "traceback": [
      "\u001b[1;31m---------------------------------------------------------------------------\u001b[0m",
      "\u001b[1;31mAttributeError\u001b[0m                            Traceback (most recent call last)",
      "\u001b[1;32m<ipython-input-6-30e71433fe22>\u001b[0m in \u001b[0;36m<module>\u001b[1;34m\u001b[0m\n\u001b[1;32m----> 1\u001b[1;33m \u001b[0mcls_portfolio\u001b[0m\u001b[1;33m.\u001b[0m\u001b[0mlst_tickers\u001b[0m\u001b[1;33m\u001b[0m\u001b[1;33m\u001b[0m\u001b[0m\n\u001b[0m",
      "\u001b[1;31mAttributeError\u001b[0m: 'portfolio_performance' object has no attribute 'lst_tickers'"
     ]
    }
   ],
   "source": [
    "cls_portfolio.lst_tickers"
   ]
  }
 ],
 "metadata": {
  "kernelspec": {
   "display_name": "Python 3",
   "language": "python",
   "name": "python3"
  },
  "language_info": {
   "codemirror_mode": {
    "name": "ipython",
    "version": 3
   },
   "file_extension": ".py",
   "mimetype": "text/x-python",
   "name": "python",
   "nbconvert_exporter": "python",
   "pygments_lexer": "ipython3",
   "version": "3.7.1"
  }
 },
 "nbformat": 4,
 "nbformat_minor": 2
}
